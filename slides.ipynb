{
 "cells": [
  {
   "cell_type": "markdown",
   "id": "0",
   "metadata": {
    "editable": true,
    "slideshow": {
     "slide_type": "slide"
    },
    "tags": []
   },
   "source": [
    "# Creating Reusable Python Code\n",
    "## From Notebooks to Scripts to Packages\n",
    "\n",
    "### Henry Schreiner -- 1-14-2025\n",
    "\n",
    "<https://iscinumpy.dev>"
   ]
  },
  {
   "cell_type": "markdown",
   "id": "1",
   "metadata": {
    "editable": true,
    "slideshow": {
     "slide_type": "slide"
    },
    "tags": []
   },
   "source": [
    "## Outline\n",
    "\n",
    "The focus today: learning how to go from research code to something reusable with structure.\n",
    "\n",
    "We are also trying not to overlap with the packaging session tomorrow! Be sure to visit that one too.\n",
    "\n",
    "* Scripts instead of notebooks\n",
    "* Writing a CLI (built-in)\n",
    "* Scripts with dependencies\n",
    "* Writing a CLI (using a dependency)\n",
    "* Tools for packaging\n",
    "* Making a reproducible environment\n",
    "* Task runners"
   ]
  },
  {
   "cell_type": "markdown",
   "id": "2",
   "metadata": {
    "editable": true,
    "slideshow": {
     "slide_type": "slide"
    },
    "tags": []
   },
   "source": [
    "## Requirements for today\n",
    "\n",
    "I recommend doing this on your computer, so you'll have something to take home. Let's install:\n",
    "\n",
    "* uv: Brew (macOS), pipx, command line: <https://github.com/astral-sh/uv>\n",
    "* pixi: Brew (macOS), command line: <https://pixi.sh/latest>\n",
    "* nox: Brew (macOS), pipx\n",
    "\n",
    "Optional:\n",
    "\n",
    "* pipx: Brew (macOS), pip, etc: <https://pipx.pypa.io/stable>\n",
    "* Python launcher for Unix: Brew, command line: <https://python-launcher.app/install>"
   ]
  },
  {
   "cell_type": "markdown",
   "id": "3",
   "metadata": {
    "editable": true,
    "slideshow": {
     "slide_type": "slide"
    },
    "tags": []
   },
   "source": [
    "## Scripts instead of notebooks\n",
    "\n",
    "Research code usually starts as notebooks. A first step is often moving some/most/all of the code out.\n",
    "\n",
    "Before moving, a few quick tools to keep in mind for notebooks:\n",
    "\n",
    "* `nbconvert` - can convert notebooks to html, pdf, etc. and run them too\n",
    "* `papermill` - can input variables to jupyter notebooks\n",
    "* You can do things like import notebooks, but 99% of the time, don't!"
   ]
  },
  {
   "cell_type": "markdown",
   "id": "4",
   "metadata": {
    "editable": true,
    "slideshow": {
     "slide_type": "subslide"
    },
    "tags": []
   },
   "source": [
    "## Scripts\n",
    "\n",
    "Basics:\n",
    "\n",
    "* Start scripts with `#!/usr/bin/env python3` (called shabang) and make them executable (`chmod +x script.py`)\n",
    "* Protect code with import side-effects with `if __name__ == \"__main__\"`\n",
    "\n",
    "Extras:\n",
    "\n",
    "* You can import from the same directory (packaging is better, though)\n",
    "    * Can disable with `PYTHONSAFEPATH` (3.11+)\n",
    "* Run commands directly with `python -c \"...\"`\n",
    "\n",
    "**Example 1**"
   ]
  },
  {
   "cell_type": "markdown",
   "id": "5",
   "metadata": {
    "editable": true,
    "slideshow": {
     "slide_type": "slide"
    },
    "tags": []
   },
   "source": [
    "## Writing a CLI\n",
    "\n",
    "The standard library provides `argparse` (and two older alternatives that are now deprecated in Python 3.13)\n",
    "\n",
    "* Create an `ArgumentParser()` (many options)\n",
    "* Add positional arguments or optional arguments (many options)\n",
    "* Can also add subcommands and more\n",
    "* Use `.parse_args()` to parse the args\n",
    "\n",
    "**Example 2**"
   ]
  },
  {
   "cell_type": "markdown",
   "id": "6",
   "metadata": {
    "editable": true,
    "slideshow": {
     "slide_type": "slide"
    },
    "tags": []
   },
   "source": [
    "## Scripts with dependencies\n",
    "\n",
    "There's now a standard way to add dependencies to a script:\n",
    "\n",
    "```python\n",
    "# /// script\n",
    "# dependencies = [ \"rich\" ]\n",
    "# ///\n",
    "```\n",
    "\n",
    "A growing number of tools can read this information. `uv run`, `pipx run`, `hatch run`, for a few examples.\n",
    "\n",
    "**Example 3 (combined with next)**"
   ]
  },
  {
   "cell_type": "markdown",
   "id": "7",
   "metadata": {
    "editable": true,
    "slideshow": {
     "slide_type": "slide"
    },
    "tags": []
   },
   "source": [
    "## Making a CLI with click\n",
    "\n",
    "If you want a third party tool with a different approach to command line arguments, try Click.\n",
    "\n",
    "```python\n",
    "import click\n",
    "\n",
    "@click.command()\n",
    "@click.option('--count', default=1, help='Number of greetings.')\n",
    "@click.option('--name', prompt='Your name', help='The person to greet.')\n",
    "def hello(count, name):\n",
    "    \"\"\"Simple program that greets NAME for a total of COUNT times.\"\"\"\n",
    "    for x in range(count):\n",
    "        click.echo(f\"Hello {name}!\")\n",
    "\n",
    "if __name__ == '__main__':\n",
    "    hello()\n",
    "```\n",
    "\n",
    "Run with `pipx run script.py` or maybe even put in shabang line.\n",
    "\n",
    "**Example 3 (combined with previous)**"
   ]
  },
  {
   "cell_type": "markdown",
   "id": "8",
   "metadata": {
    "editable": true,
    "slideshow": {
     "slide_type": "slide"
    },
    "tags": []
   },
   "source": [
    "## Tools for packaging\n",
    "\n",
    "Specialized tools vs. all in one tools.\n",
    "\n",
    "| Packaging need | Tool |\n",
    "|----------------|------|\n",
    "| Install Python |------|\n",
    "| Installer for libraries | ... |\n",
    "| Installer for applications | ... |\n",
    "| Virtual environments | ... |\n",
    "| Distribution builder | ... |\n",
    "| Distribution installer | ... |\n",
    "| Package uploader | ... |\n",
    "| Lockfile tools | ... |\n",
    "| Environment aware task runner | ... |"
   ]
  },
  {
   "cell_type": "markdown",
   "id": "9",
   "metadata": {
    "editable": true,
    "slideshow": {
     "slide_type": "subslide"
    },
    "tags": []
   },
   "source": [
    "| Packaging need | uv command | Tool |\n",
    "|----------------|----|------|\n",
    "| Install Python | `uv python install` | (OS-dependent) |\n",
    "| Installer for libraries | `uv pip install` | pip |\n",
    "| Installer for applications | `uv tool` / `uvx` | pipx |\n",
    "| Virtual environments | `uv venv` | venv, virtualenv |\n",
    "| Distribution builder | `uv build` | build |\n",
    "| Distribution installer | | installer |\n",
    "| Package uploader | `uv publish` | twine |\n",
    "| Lockfile tools | `uv pip compile` | pip-tools |\n",
    "| Environment aware task runner | | nox, tox |\n",
    "\n"
   ]
  },
  {
   "cell_type": "markdown",
   "id": "10",
   "metadata": {
    "editable": true,
    "slideshow": {
     "slide_type": "subslide"
    },
    "tags": []
   },
   "source": [
    "All in ones:\n",
    "\n",
    "* uv: fast (10-100x faster than others) and powerful. Young, but growing. Replaces Rye. Also has specialized commands!\n",
    "* Poetry: the original. Replaces everything except the task runner.\n",
    "* PDM: like Poetry, but follows standards and also can install Python\n",
    "* Hatch: All the above except locking and also can handle tasks.\n",
    "* Pixi: Conda-centric (but does support PyPI), also handles locking and tasks.\n"
   ]
  },
  {
   "cell_type": "markdown",
   "id": "11",
   "metadata": {
    "editable": true,
    "slideshow": {
     "slide_type": "subslide"
    },
    "tags": []
   },
   "source": [
    "| Other needs    | Tool   |\n",
    "|----------------|--------|\n",
    "| Testing        | pytest |\n",
    "| Formatting     | ruff / black |\n",
    "| Linting        | ruff / flake8 |\n",
    "| Type checking  | mypy   |\n",
    "\n",
    "Extra useful tools:\n",
    "* Python launcher for unix: `python -> py`, finds `.venv` automatically"
   ]
  },
  {
   "cell_type": "markdown",
   "id": "12",
   "metadata": {
    "editable": true,
    "slideshow": {
     "slide_type": "slide"
    },
    "tags": []
   },
   "source": [
    "## Aside: uv tool / uvx / pipx\n",
    "\n",
    "Pipx is \"pip for eXecutables\" (or applications, but that doesn't have an x in it). And uv replaces it with a faster version, too!\n",
    "\n",
    "* Do you need to `import` it? Use `uv pip` (pip).\n",
    "* Do you run in from the command line? Use `uv tool` (pipx).\n",
    "\n",
    "You can't `import` an installed app! They do not interfere with each other."
   ]
  },
  {
   "cell_type": "markdown",
   "id": "13",
   "metadata": {
    "editable": true,
    "slideshow": {
     "slide_type": "slide"
    },
    "tags": []
   },
   "source": [
    "## pipx install\n",
    "\n",
    "You can install and manage apps with `uv tool` (or pipx)!\n",
    "\n",
    "```bash\n",
    "uv tool install <app>\n",
    "uv tool install --with <extra-dependency> <app>\n",
    "uv tool list\n",
    "ub tool upgrade --all\n",
    "```\n",
    "\n",
    "## uvx\n",
    "\n",
    "```bash\n",
    "uvx <app>\n",
    "```\n",
    "\n",
    "This is my favorite feature, it downloads a PyPI package in to a temp env, then runs it. If it's done this in the last week, it's reused. You have access to all PyPI anywhere you have pipx! (GHA, etc) It's such a common need it has a shortcut `uvx`, though you can spell it out as `uv tool run` if you prefer. It's `pipx run` for pipx."
   ]
  },
  {
   "cell_type": "markdown",
   "id": "14",
   "metadata": {
    "editable": true,
    "slideshow": {
     "slide_type": "subslide"
    },
    "tags": []
   },
   "source": [
    "## uvx examples\n",
    "\n",
    "* **twine**: upload SDists and wheels\n",
    "* **cibuildwheel**: make redistributable wheels\n",
    "* **nox/tox**: Python task runners\n",
    "* **jupylite**: WebAssembly Python site builder\n",
    "* **ruff**: Python code linter and formatter\n",
    "* **pypi-command-line**: query PyPI"
   ]
  },
  {
   "cell_type": "markdown",
   "id": "15",
   "metadata": {
    "editable": true,
    "slideshow": {
     "slide_type": "subslide"
    },
    "tags": []
   },
   "source": [
    "* **uproot-browser**: ROOT file browser (HEP)\n",
    "* **tiptop**: fancy top-style monitor\n",
    "* **rich-cli**: pretty print files\n",
    "* **cookiecutter**: template packages\n",
    "* **clang-format**: format C/C++/CUDA code\n",
    "* **pre-commit**: general CQA tool\n",
    "* **cmake**: build system generator\n",
    "* **meson**: another build system generator\n",
    "* **ninja**: build system"
   ]
  },
  {
   "cell_type": "markdown",
   "id": "16",
   "metadata": {
    "editable": true,
    "slideshow": {
     "slide_type": "slide"
    },
    "tags": []
   },
   "source": [
    "## Setting up an environment (classic method)\n",
    "\n",
    "### Make env\n",
    "\n",
    "```bash\n",
    "python3 -m venv .venv\n",
    "```\n",
    "\n",
    "For your main project environment, use the name `.venv`, many tools like this (including VSCode)."
   ]
  },
  {
   "cell_type": "markdown",
   "id": "17",
   "metadata": {
    "editable": true,
    "slideshow": {
     "slide_type": "subslide"
    },
    "tags": []
   },
   "source": [
    "### Activate env\n",
    "\n",
    "```bash\n",
    "source .venv/bin/activate\n",
    "```\n",
    "\n",
    "If you don't activate, you can also fully qualify all commands, like `.venv/bin/python` _most_ of the time. "
   ]
  },
  {
   "cell_type": "markdown",
   "id": "18",
   "metadata": {
    "editable": true,
    "slideshow": {
     "slide_type": "subslide"
    },
    "tags": []
   },
   "source": [
    "### Install packages\n",
    "\n",
    "```bash\n",
    "pip install -r requirements.txt\n",
    "```\n",
    "\n",
    "This file is simply a list of packages to install. Info on making one in a minute.\n",
    "\n",
    "If you are making a package, you can use a `pyproject.toml` and install requirements, but we'll see that later in the packaging session!"
   ]
  },
  {
   "cell_type": "markdown",
   "id": "19",
   "metadata": {
    "editable": true,
    "slideshow": {
     "slide_type": "subslide"
    },
    "tags": []
   },
   "source": [
    "### Reproducible environments\n",
    "\n",
    "```bash\n",
    "pip install pip-tools\n",
    "pip-compile\n",
    "```\n",
    "\n",
    "This makes a `requirements.txt` from a `requirements.in`. Add `--generate-hashes` for security.\n",
    "\n",
    "**Example 4**"
   ]
  },
  {
   "cell_type": "markdown",
   "id": "20",
   "metadata": {
    "editable": true,
    "slideshow": {
     "slide_type": "slide"
    },
    "tags": []
   },
   "source": [
    "## Setting up an environment (classic method with uv)\n",
    "A new entry in the packaging space is uv, a Rust-based tool that replaces many classic tools but currently provides a similar one-task interface. (An all-in-one interface will be added soon, too).\n",
    "\n",
    "```bash\n",
    "uv venv\n",
    "uv pip compile requirements.in\n",
    "uv pip install -r requirements.txt\n",
    "```\n",
    "\n",
    "Makes non-backward compatible improvements to pip interface\n",
    "\n",
    "* Defaults to `.venv`\n",
    "* Won't install to `--system` unless requested\n",
    "* Won't install `--user` at all\n",
    "* Won't install _anything_ by default to venvs\n",
    "* Designed to target venvs instead of being installed in them (pip can do that)"
   ]
  },
  {
   "cell_type": "markdown",
   "id": "21",
   "metadata": {
    "slideshow": {
     "slide_type": "slide"
    },
    "vscode": {
     "languageId": "plaintext"
    }
   },
   "source": [
    "## UV all-in-one method\n",
    "\n",
    "For this method, you need to specify your requirements in `pyproject.toml` in `project.requirements` or `dependency-groups.dev`. Then all you do is:\n",
    "\n",
    "`uv run <command>`\n",
    "\n",
    "This will run `uv sync` for you, which sets up `.venv`, installs your requirements, and makes a `uv.lock` file for you!\n",
    "\n",
    "**Example 5**\n"
   ]
  },
  {
   "cell_type": "markdown",
   "id": "22",
   "metadata": {
    "editable": true,
    "slideshow": {
     "slide_type": "slide"
    },
    "tags": []
   },
   "source": [
    "## Conda-based all-in-one (Pixi)\n",
    "\n",
    "I'll demo Pixi. It uses either `pyproject.toml` or `pixi.toml`. It strongly favors conda, but can handle PyPI too. We are covering \"projects\" (not importable packages), so I'll use `pixi.toml`.\n",
    "\n",
    "```bash\n",
    "# New project\n",
    "pixi init\n",
    "pixi add click\n",
    "```\n",
    "\n",
    "Notice this installs and locks when you `add`!\n",
    "\n",
    "```bash\n",
    "# Getting existing project (locked)\n",
    "pixi install\n",
    "```\n",
    "\n",
    "Example: https://github.com/matthewfeickert-talks/talk-urssi-summer-school-2024/blob/e5bbecda377c9261abe2009a22df24da4727586e/pixi.toml#L30-L31\n",
    "\n",
    "**Example 6**"
   ]
  },
  {
   "cell_type": "markdown",
   "id": "23",
   "metadata": {
    "editable": true,
    "slideshow": {
     "slide_type": "slide"
    },
    "tags": []
   },
   "source": [
    "## Task runners\n",
    "\n",
    "Often you have various tasks that need to be run. Task runners let you define tasks along with the environment the task runs in. Nox and Tox are specific task runners, and both Hatch and Pixi also support defining tasks. uv does not yet, but might in the future.\n",
    "\n",
    "I'll use nox, as it's very flexible with Python syntax.\n",
    "\n",
    "Running nox:\n",
    "\n",
    "* `nox -l`: See all sessions\n",
    "* `nox -s <session>`: Run a session"
   ]
  },
  {
   "cell_type": "markdown",
   "id": "24",
   "metadata": {
    "editable": true,
    "slideshow": {
     "slide_type": "subslide"
    },
    "tags": []
   },
   "source": [
    "Making a noxfile:\n",
    "\n",
    "```python\n",
    "import nox\n",
    "\n",
    "@nox.session\n",
    "def format(session):\n",
    "    session.install(\"ruff\")\n",
    "    session.run(\"ruff\", \"format\", \".\")\n",
    "```\n",
    "\n",
    "**Example 7**\n"
   ]
  }
 ],
 "metadata": {
  "kernelspec": {
   "display_name": "Python 3 (ipykernel)",
   "language": "python",
   "name": "python3"
  },
  "language_info": {
   "codemirror_mode": {
    "name": "ipython",
    "version": 3
   },
   "file_extension": ".py",
   "mimetype": "text/x-python",
   "name": "python",
   "nbconvert_exporter": "python",
   "pygments_lexer": "ipython3",
   "version": "3.12.7"
  }
 },
 "nbformat": 4,
 "nbformat_minor": 5
}
